{
 "cells": [
  {
   "cell_type": "markdown",
   "metadata": {},
   "source": [
    "## OpenSMILE data preprocessing job\n",
    "### Bulding ML pIpelines useing sagemaker processing SDK\n",
    "###  Orchestrating ML preprocessing jobs from sagemaker\n",
    "### ."
   ]
  },
  {
   "cell_type": "code",
   "execution_count": null,
   "metadata": {},
   "outputs": [],
   "source": []
  },
  {
   "cell_type": "code",
   "execution_count": 40,
   "metadata": {},
   "outputs": [
    {
     "name": "stdout",
     "output_type": "stream",
     "text": [
      "Populating the interactive namespace from numpy and matplotlib\n"
     ]
    }
   ],
   "source": [
    "%pylab inline\n",
    "import numpy as np\n",
    "import pandas as pd\n",
    "import matplotlib.pyplot as plt\n",
    "import matplotlib.image as mpimg\n",
    "import time\n",
    "import datetime\n",
    "import boto3\n",
    "import sagemaker\n",
    "from sagemaker import get_execution_role\n",
    "\n",
    "from sagemaker.processing import ScriptProcessor, ProcessingInput"
   ]
  },
  {
   "cell_type": "code",
   "execution_count": 19,
   "metadata": {},
   "outputs": [],
   "source": [
    "# Coustomized docker container hosted in aws ecr \n",
    "openface_repository_uri = '166087373671.dkr.ecr.ap-south-1.amazonaws.com/vkonda18/opensmile:latest'"
   ]
  },
  {
   "cell_type": "code",
   "execution_count": 20,
   "metadata": {},
   "outputs": [],
   "source": [
    "#input and output data location\n",
    "bucket = 'openface-preproces'\n",
    "input_prefix = 'input_data'\n",
    "preprocessed_prefix = 'processed_data'"
   ]
  },
  {
   "cell_type": "code",
   "execution_count": 21,
   "metadata": {},
   "outputs": [],
   "source": [
    "region  = boto3.session.Session().region_name\n",
    "\n",
    "role = get_execution_role()\n",
    "\n",
    "cmd = [\"python3\",\"-v\"]\n",
    "\n",
    "sklearn_processor = ScriptProcessor( base_job_name='opensmile-preprocessor',\n",
    "                                     image_uri= openface_repository_uri,\n",
    "                                     command=cmd,\n",
    "                                     role=role,\n",
    "                                     instance_type='ml.m5.large',\n",
    "                                     max_runtime_in_seconds=600,\n",
    "                                     instance_count=1,\n",
    "                                     env={'mode': 'python3'})"
   ]
  },
  {
   "cell_type": "code",
   "execution_count": 31,
   "metadata": {},
   "outputs": [
    {
     "name": "stdout",
     "output_type": "stream",
     "text": [
      "\n",
      "Job Name:  opensmile-preprocessor-2020-02-15-15-48-59-724\n",
      "Inputs:  [{'InputName': 'code', 'S3Input': {'S3Uri': 's3://sagemaker-ap-south-1-166087373671/opensmile-preprocessor-2020-02-15-15-48-59-724/input/code/preprocess.py', 'LocalPath': '/opt/ml/processing/input/code', 'S3DataType': 'S3Prefix', 'S3InputMode': 'File', 'S3DataDistributionType': 'FullyReplicated', 'S3CompressionType': 'None'}}]\n",
      "Outputs:  []\n",
      ".....................................!"
     ]
    }
   ],
   "source": [
    "# running processing job\n",
    "sklearn_processor.run(code='preprocess.py',\n",
    "                     arguments=['s3_input_bucket', bucket,\n",
    "                               's3_input_key_prefix', input_prefix,\n",
    "                               's3_output_bucket', bucket,\n",
    "                               's3_output_key_prefix', preprocessed_prefix],\n",
    "                    logs=False)"
   ]
  },
  {
   "cell_type": "code",
   "execution_count": 32,
   "metadata": {},
   "outputs": [
    {
     "data": {
      "text/plain": [
       "{'ProcessingInputs': [{'InputName': 'code',\n",
       "   'S3Input': {'S3Uri': 's3://sagemaker-ap-south-1-166087373671/opensmile-preprocessor-2020-02-15-15-48-59-724/input/code/preprocess.py',\n",
       "    'LocalPath': '/opt/ml/processing/input/code',\n",
       "    'S3DataType': 'S3Prefix',\n",
       "    'S3InputMode': 'File',\n",
       "    'S3DataDistributionType': 'FullyReplicated',\n",
       "    'S3CompressionType': 'None'}}],\n",
       " 'ProcessingJobName': 'opensmile-preprocessor-2020-02-15-15-48-59-724',\n",
       " 'ProcessingResources': {'ClusterConfig': {'InstanceCount': 1,\n",
       "   'InstanceType': 'ml.m5.large',\n",
       "   'VolumeSizeInGB': 30}},\n",
       " 'StoppingCondition': {'MaxRuntimeInSeconds': 600},\n",
       " 'AppSpecification': {'ImageUri': '166087373671.dkr.ecr.ap-south-1.amazonaws.com/vkonda18/opensmile:latest',\n",
       "  'ContainerEntrypoint': ['python3',\n",
       "   '-v',\n",
       "   '/opt/ml/processing/input/code/preprocess.py'],\n",
       "  'ContainerArguments': ['s3_input_bucket',\n",
       "   'openface-preproces',\n",
       "   's3_input_key_prefix',\n",
       "   'input_data',\n",
       "   's3_output_bucket',\n",
       "   'openface-preproces',\n",
       "   's3_output_key_prefix',\n",
       "   'processed_data']},\n",
       " 'Environment': {'mode': 'python3'},\n",
       " 'RoleArn': 'arn:aws:iam::166087373671:role/service-role/AmazonSageMaker-ExecutionRole-20191212T101145',\n",
       " 'ProcessingJobArn': 'arn:aws:sagemaker:ap-south-1:166087373671:processing-job/opensmile-preprocessor-2020-02-15-15-48-59-724',\n",
       " 'ProcessingJobStatus': 'Completed',\n",
       " 'ProcessingEndTime': datetime.datetime(2020, 2, 15, 15, 52, tzinfo=tzlocal()),\n",
       " 'ProcessingStartTime': datetime.datetime(2020, 2, 15, 15, 50, 8, tzinfo=tzlocal()),\n",
       " 'LastModifiedTime': datetime.datetime(2020, 2, 15, 15, 52, 0, 878000, tzinfo=tzlocal()),\n",
       " 'CreationTime': datetime.datetime(2020, 2, 15, 15, 48, 59, 910000, tzinfo=tzlocal()),\n",
       " 'ResponseMetadata': {'RequestId': 'c6838065-ec08-4020-97bd-e5b89aa6c277',\n",
       "  'HTTPStatusCode': 200,\n",
       "  'HTTPHeaders': {'x-amzn-requestid': 'c6838065-ec08-4020-97bd-e5b89aa6c277',\n",
       "   'content-type': 'application/x-amz-json-1.1',\n",
       "   'content-length': '1359',\n",
       "   'date': 'Sat, 15 Feb 2020 15:52:26 GMT'},\n",
       "  'RetryAttempts': 0}}"
      ]
     },
     "execution_count": 32,
     "metadata": {},
     "output_type": "execute_result"
    }
   ],
   "source": [
    "client = boto3.client('sagemaker')\n",
    "response = client.describe_processing_job(\n",
    "    ProcessingJobName='opensmile-preprocessor-2020-02-15-15-48-59-724'\n",
    ")\n",
    "response"
   ]
  },
  {
   "cell_type": "code",
   "execution_count": 46,
   "metadata": {},
   "outputs": [
    {
     "data": {
      "text/plain": [
       "datetime.datetime(2020, 2, 15, 15, 52, tzinfo=tzlocal())"
      ]
     },
     "execution_count": 46,
     "metadata": {},
     "output_type": "execute_result"
    }
   ],
   "source": [
    "response['ProcessingEndTime']"
   ]
  },
  {
   "cell_type": "code",
   "execution_count": 47,
   "metadata": {},
   "outputs": [
    {
     "data": {
      "text/plain": [
       "datetime.datetime(2020, 2, 15, 15, 50, 8, tzinfo=tzlocal())"
      ]
     },
     "execution_count": 47,
     "metadata": {},
     "output_type": "execute_result"
    }
   ],
   "source": [
    "response['ProcessingStartTime']"
   ]
  },
  {
   "cell_type": "code",
   "execution_count": 39,
   "metadata": {},
   "outputs": [],
   "source": [
    "BUCKET_NAME = 'opensmile-preprocess' # replace with your bucket name\n",
    "KEY = 'processed_data/media-inter.energy.csv' # replace with your object key\n",
    "\n",
    "s3 = boto3.resource('s3')\n",
    "\n",
    "s3.Bucket(BUCKET_NAME).download_file(KEY, '/home/ec2-user/SageMaker/media-inter.energy.csv')"
   ]
  },
  {
   "cell_type": "code",
   "execution_count": 41,
   "metadata": {},
   "outputs": [],
   "source": [
    "opensmile_1 = pd.read_csv('opensmile.energy.csv')\n",
    "opensmile_2 = pd.read_csv('media-inter.energy.csv')"
   ]
  },
  {
   "cell_type": "code",
   "execution_count": 45,
   "metadata": {},
   "outputs": [
    {
     "data": {
      "text/plain": [
       "frameIndex;frameTime;pcm_LOGenergy    202\n",
       "dtype: int64"
      ]
     },
     "execution_count": 45,
     "metadata": {},
     "output_type": "execute_result"
    }
   ],
   "source": [
    "opensmile_1.count()"
   ]
  },
  {
   "cell_type": "code",
   "execution_count": 44,
   "metadata": {},
   "outputs": [
    {
     "data": {
      "text/html": [
       "<div>\n",
       "<style scoped>\n",
       "    .dataframe tbody tr th:only-of-type {\n",
       "        vertical-align: middle;\n",
       "    }\n",
       "\n",
       "    .dataframe tbody tr th {\n",
       "        vertical-align: top;\n",
       "    }\n",
       "\n",
       "    .dataframe thead th {\n",
       "        text-align: right;\n",
       "    }\n",
       "</style>\n",
       "<table border=\"1\" class=\"dataframe\">\n",
       "  <thead>\n",
       "    <tr style=\"text-align: right;\">\n",
       "      <th></th>\n",
       "      <th>frameIndex;frameTime;pcm_LOGenergy</th>\n",
       "    </tr>\n",
       "  </thead>\n",
       "  <tbody>\n",
       "    <tr>\n",
       "      <th>0</th>\n",
       "      <td>0;0.000000;-1.318377e+01</td>\n",
       "    </tr>\n",
       "    <tr>\n",
       "      <th>1</th>\n",
       "      <td>1;0.010000;-1.302121e+01</td>\n",
       "    </tr>\n",
       "    <tr>\n",
       "      <th>2</th>\n",
       "      <td>2;0.020000;-1.312088e+01</td>\n",
       "    </tr>\n",
       "    <tr>\n",
       "      <th>3</th>\n",
       "      <td>3;0.030000;-1.367092e+01</td>\n",
       "    </tr>\n",
       "    <tr>\n",
       "      <th>4</th>\n",
       "      <td>4;0.040000;-1.393220e+01</td>\n",
       "    </tr>\n",
       "    <tr>\n",
       "      <th>5</th>\n",
       "      <td>5;0.050000;-1.384230e+01</td>\n",
       "    </tr>\n",
       "    <tr>\n",
       "      <th>6</th>\n",
       "      <td>6;0.060000;-1.396289e+01</td>\n",
       "    </tr>\n",
       "    <tr>\n",
       "      <th>7</th>\n",
       "      <td>7;0.070000;-1.410195e+01</td>\n",
       "    </tr>\n",
       "    <tr>\n",
       "      <th>8</th>\n",
       "      <td>8;0.080000;-1.372311e+01</td>\n",
       "    </tr>\n",
       "    <tr>\n",
       "      <th>9</th>\n",
       "      <td>9;0.090000;-1.334264e+01</td>\n",
       "    </tr>\n",
       "  </tbody>\n",
       "</table>\n",
       "</div>"
      ],
      "text/plain": [
       "  frameIndex;frameTime;pcm_LOGenergy\n",
       "0           0;0.000000;-1.318377e+01\n",
       "1           1;0.010000;-1.302121e+01\n",
       "2           2;0.020000;-1.312088e+01\n",
       "3           3;0.030000;-1.367092e+01\n",
       "4           4;0.040000;-1.393220e+01\n",
       "5           5;0.050000;-1.384230e+01\n",
       "6           6;0.060000;-1.396289e+01\n",
       "7           7;0.070000;-1.410195e+01\n",
       "8           8;0.080000;-1.372311e+01\n",
       "9           9;0.090000;-1.334264e+01"
      ]
     },
     "execution_count": 44,
     "metadata": {},
     "output_type": "execute_result"
    }
   ],
   "source": [
    "opensmile_2.head(10)"
   ]
  },
  {
   "cell_type": "code",
   "execution_count": null,
   "metadata": {},
   "outputs": [],
   "source": [
    "client = boto3.client('sagemaker')\n",
    "response = client.stop_processing_job(\n",
    "    ProcessingJobName='openface-preprocessor-2020-02-14-14-44-35-346')\n",
    "\n",
    "response"
   ]
  },
  {
   "cell_type": "code",
   "execution_count": null,
   "metadata": {},
   "outputs": [],
   "source": []
  },
  {
   "cell_type": "code",
   "execution_count": null,
   "metadata": {},
   "outputs": [],
   "source": [
    "\"\"\"SMILExtract \n",
    "-C /root/opensmile-2.3.0/config/demo/demo1_energy.conf \n",
    "-I /root/opensmile-2.3.0/example-audio/opensmile.wav\n",
    "-O ./speech01.energy.csv\"\"\"\n",
    "\n",
    "#s3://opensmile-preprocess/input_data/media-interpretation.wav\n",
    "#s3://opensmile-preprocess/input_data/opensmile.wav\n",
    "#s3://opensmile-preprocess/input_data/config"
   ]
  },
  {
   "cell_type": "code",
   "execution_count": 29,
   "metadata": {},
   "outputs": [
    {
     "name": "stdout",
     "output_type": "stream",
     "text": [
      "Overwriting preprocess.py\n"
     ]
    }
   ],
   "source": [
    "%%writefile preprocess.py\n",
    "#!/usr/bin/env python3\n",
    "\n",
    "print('Script started processing')\n",
    "import boto3\n",
    "import os\n",
    "import sys\n",
    "import subprocess\n",
    "\n",
    "stderr = 0\n",
    "\n",
    "def main():\n",
    "    print('Script started processing main')\n",
    "    \n",
    "    end_sync = 'aws s3 cp /tmp/processed_data s3://opensmile-preprocess/processed_data --recursive' \n",
    "    \n",
    "    #'aws s3 cp s3://opensmile-preprocess/input_data /tmp/input_data --recursive'\n",
    "\n",
    "    start_sync = 'aws s3 cp s3://opensmile-preprocess/input_data /tmp/input_data --recursive'\n",
    "    \n",
    "    subprocess.check_call(start_sync,shell = True)\n",
    "\n",
    "    cmd = \"{} -C {} -I {} -O {} \".format('SMILExtract','/tmp/input_data/config/demo/demo1_energy.conf' ,\n",
    "                                         '/tmp/input_data/opensmile.wav','/tmp/processed_data/opensmile.energy.csv')\n",
    "\n",
    "    #cmd = \"SMILExtract -C /root/opensmile-2.3.0/config/demo/demo1_energy.conf -I /root/opensmile-2.3.0/example-audio/opensmile.wav -O /tmp/processed_data/opensmile.energy.csv\"\n",
    "    \n",
    "    subprocess.check_call(cmd,shell = True)  \n",
    "\n",
    "    cmd = \"{} -C {} -I {} -O {} \".format('SMILExtract','/tmp/input_data/config/demo/demo1_energy.conf' ,\n",
    "                                         '/tmp/input_data/media-interpretation.wav','/tmp/processed_data/media-inter.energy.csv')\n",
    "\n",
    "    subprocess.check_call(cmd, shell = True)\n",
    "\n",
    "    subprocess.check_call(end_sync,shell = True) \n",
    "    \n",
    "    print('Script processing done')\n",
    "    \n",
    "if __name__ == \"__main__\":\n",
    "    \n",
    "    main()"
   ]
  },
  {
   "cell_type": "code",
   "execution_count": null,
   "metadata": {},
   "outputs": [],
   "source": []
  }
 ],
 "metadata": {
  "kernelspec": {
   "display_name": "conda_python3",
   "language": "python",
   "name": "conda_python3"
  },
  "language_info": {
   "codemirror_mode": {
    "name": "ipython",
    "version": 3
   },
   "file_extension": ".py",
   "mimetype": "text/x-python",
   "name": "python",
   "nbconvert_exporter": "python",
   "pygments_lexer": "ipython3",
   "version": "3.6.5"
  }
 },
 "nbformat": 4,
 "nbformat_minor": 2
}
